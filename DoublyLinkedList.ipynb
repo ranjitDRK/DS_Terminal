{
  "nbformat": 4,
  "nbformat_minor": 0,
  "metadata": {
    "colab": {
      "name": "DoublyLinkedList",
      "provenance": [],
      "authorship_tag": "ABX9TyPeFl2rB+zcwl5ZJlawfsdk"
    },
    "kernelspec": {
      "name": "python3",
      "display_name": "Python 3"
    },
    "language_info": {
      "name": "python"
    }
  },
  "cells": [
    {
      "cell_type": "code",
      "execution_count": 1,
      "metadata": {
        "colab": {
          "base_uri": "https://localhost:8080/"
        },
        "id": "_IEveIuImuGb",
        "outputId": "7c1fc9e6-e4e0-45b4-dc76-242190144ed4"
      },
      "outputs": [
        {
          "output_type": "stream",
          "name": "stdout",
          "text": [
            "1\n"
          ]
        }
      ],
      "source": [
        "#  Doubly Linked List\n",
        "class Node:\n",
        "  def __init__(self,value):\n",
        "    self.value=value\n",
        "    self.next=None\n",
        "    self.prev=None\n",
        "\n",
        "class DoublyLinkedList:\n",
        "  def __init__(self,value):\n",
        "    new_node=Node(value)\n",
        "    self.head=new_node\n",
        "    self.tail=new_node\n",
        "    self.length=1\n",
        "  def print_list(self):\n",
        "    temp = self.head\n",
        "    while temp is not None:\n",
        "      print(temp.value)\n",
        "      temp=temp.next\n",
        "\n",
        "my_doubly_linked_list=DoublyLinkedList(1)\n",
        "\n",
        "my_doubly_linked_list.print_list()"
      ]
    }
  ]
}